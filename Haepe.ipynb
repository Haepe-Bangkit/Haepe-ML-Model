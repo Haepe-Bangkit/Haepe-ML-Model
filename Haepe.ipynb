{
  "cells": [
    {
      "cell_type": "markdown",
      "metadata": {
        "id": "view-in-github",
        "colab_type": "text"
      },
      "source": [
        "<a href=\"https://colab.research.google.com/github/Haepe-Bangkit/Haepe-ML-Model/blob/main/Haepe.ipynb\" target=\"_parent\"><img src=\"https://colab.research.google.com/assets/colab-badge.svg\" alt=\"Open In Colab\"/></a>"
      ]
    },
    {
      "cell_type": "code",
      "execution_count": 25,
      "metadata": {
        "colab": {
          "base_uri": "https://localhost:8080/"
        },
        "id": "p2dQsHI3_N8K",
        "outputId": "6f7d775e-4c22-43c1-8c8f-08865f84f651"
      },
      "outputs": [
        {
          "output_type": "execute_result",
          "data": {
            "text/plain": [
              "((222, 45), (222,))"
            ]
          },
          "metadata": {},
          "execution_count": 25
        }
      ],
      "source": [
        "import tensorflow as tf\n",
        "\n",
        "import matplotlib.pyplot as plt\n",
        "import numpy as np\n",
        "import pandas as pd\n",
        "from sklearn.model_selection import train_test_split\n",
        "from sklearn.preprocessing import LabelEncoder\n",
        "\n",
        "data = pd.read_csv('cemara_dataset.csv')\n",
        "data = data.drop(['Timestamp'], axis=1)\n",
        "data = data.dropna(axis=0)\n",
        "x = data.drop(['Aktivitas'], axis=1)\n",
        "y = data['Aktivitas']\n",
        "\n",
        "le = LabelEncoder()\n",
        "x = pd.get_dummies(x)\n",
        "y = le.fit_transform(y)\n",
        "x.shape, y.shape"
      ]
    },
    {
      "cell_type": "markdown",
      "metadata": {
        "id": "rphS2rMIymyZ"
      },
      "source": [
        "### Mendefenisikan arsitektur fully connected layer\n",
        "pendefenisian arsitektur fully connected neural network menggunakan API fungsi sequential() "
      ]
    },
    {
      "cell_type": "code",
      "execution_count": 61,
      "metadata": {
        "id": "MMZsbjAkDKpU"
      },
      "outputs": [],
      "source": [
        "def build_fc_model():\n",
        "  fc_model = tf.keras.Sequential([\n",
        "\n",
        "      tf.keras.layers.Flatten(),\n",
        "      tf.keras.layers.Dense(46, activation=tf.nn.relu, input_shape=(46,)),\n",
        "      tf.keras.layers.Dense(64, activation=tf.nn.relu),\n",
        "      tf.keras.layers.Dense(128, activation=tf.nn.relu),\n",
        "      tf.keras.layers.Dense(1, activation=tf.nn.sigmoid) \n",
        "      \n",
        "  ])\n",
        "  return fc_model\n",
        "\n",
        "model = build_fc_model()"
      ]
    },
    {
      "cell_type": "markdown",
      "metadata": {
        "id": "aU3AQxP76vkV"
      },
      "source": [
        "###Melakukan compile dengan menggunakan Optimizer Adam dan learning rate=0.001, loss\"MSE\" dan metrics \"MAE\""
      ]
    },
    {
      "cell_type": "code",
      "execution_count": 64,
      "metadata": {
        "id": "Lhan11blCaW7"
      },
      "outputs": [],
      "source": [
        "model.compile(optimizer=tf.keras.optimizers.Adam(learning_rate=0.001), \n",
        "              loss=tf.keras.losses.BinaryCrossentropy,\n",
        "              metrics=['mae'])\n"
      ]
    },
    {
      "cell_type": "markdown",
      "metadata": {
        "id": "ajx2CaM47BxE"
      },
      "source": [
        "###Training Data"
      ]
    },
    {
      "cell_type": "code",
      "execution_count": 65,
      "metadata": {
        "colab": {
          "base_uri": "https://localhost:8080/"
        },
        "id": "EFMbIqIvQ2X0",
        "outputId": "0dca8614-5f40-4c8e-c91b-9c39c9c9622e"
      },
      "outputs": [
        {
          "output_type": "stream",
          "name": "stdout",
          "text": [
            "Epoch 1/20\n",
            "4/4 [==============================] - 0s 50ms/step - loss: 8.3293 - mae: 2.1743 - val_loss: 6.9702 - val_mae: 2.1642\n",
            "Epoch 2/20\n",
            "4/4 [==============================] - 0s 10ms/step - loss: 8.3291 - mae: 2.1742 - val_loss: 6.9702 - val_mae: 2.1642\n",
            "Epoch 3/20\n",
            "4/4 [==============================] - 0s 9ms/step - loss: 8.3290 - mae: 2.1742 - val_loss: 6.9702 - val_mae: 2.1642\n",
            "Epoch 4/20\n",
            "4/4 [==============================] - 0s 9ms/step - loss: 8.3290 - mae: 2.1742 - val_loss: 6.9701 - val_mae: 2.1642\n",
            "Epoch 5/20\n",
            "4/4 [==============================] - 0s 9ms/step - loss: 8.3290 - mae: 2.1742 - val_loss: 6.9701 - val_mae: 2.1642\n",
            "Epoch 6/20\n",
            "4/4 [==============================] - 0s 10ms/step - loss: 8.3290 - mae: 2.1742 - val_loss: 6.9701 - val_mae: 2.1642\n",
            "Epoch 7/20\n",
            "4/4 [==============================] - 0s 10ms/step - loss: 8.3290 - mae: 2.1742 - val_loss: 6.9701 - val_mae: 2.1642\n",
            "Epoch 8/20\n",
            "4/4 [==============================] - 0s 10ms/step - loss: 8.3290 - mae: 2.1742 - val_loss: 6.9701 - val_mae: 2.1642\n",
            "Epoch 9/20\n",
            "4/4 [==============================] - 0s 9ms/step - loss: 8.3290 - mae: 2.1742 - val_loss: 6.9701 - val_mae: 2.1642\n",
            "Epoch 10/20\n",
            "4/4 [==============================] - 0s 9ms/step - loss: 8.3290 - mae: 2.1742 - val_loss: 6.9701 - val_mae: 2.1642\n",
            "Epoch 11/20\n",
            "4/4 [==============================] - 0s 9ms/step - loss: 8.3290 - mae: 2.1742 - val_loss: 6.9701 - val_mae: 2.1642\n",
            "Epoch 12/20\n",
            "4/4 [==============================] - 0s 9ms/step - loss: 8.3290 - mae: 2.1742 - val_loss: 6.9701 - val_mae: 2.1642\n",
            "Epoch 13/20\n",
            "4/4 [==============================] - 0s 9ms/step - loss: 8.3290 - mae: 2.1742 - val_loss: 6.9701 - val_mae: 2.1642\n",
            "Epoch 14/20\n",
            "4/4 [==============================] - 0s 10ms/step - loss: 8.3290 - mae: 2.1742 - val_loss: 6.9701 - val_mae: 2.1642\n",
            "Epoch 15/20\n",
            "4/4 [==============================] - 0s 10ms/step - loss: 8.3290 - mae: 2.1742 - val_loss: 6.9701 - val_mae: 2.1642\n",
            "Epoch 16/20\n",
            "4/4 [==============================] - 0s 9ms/step - loss: 8.3290 - mae: 2.1742 - val_loss: 6.9701 - val_mae: 2.1642\n",
            "Epoch 17/20\n",
            "4/4 [==============================] - 0s 11ms/step - loss: 8.3290 - mae: 2.1742 - val_loss: 6.9701 - val_mae: 2.1642\n",
            "Epoch 18/20\n",
            "4/4 [==============================] - 0s 9ms/step - loss: 8.3290 - mae: 2.1742 - val_loss: 6.9701 - val_mae: 2.1642\n",
            "Epoch 19/20\n",
            "4/4 [==============================] - 0s 9ms/step - loss: 8.3290 - mae: 2.1742 - val_loss: 6.9701 - val_mae: 2.1642\n",
            "Epoch 20/20\n",
            "4/4 [==============================] - 0s 9ms/step - loss: 8.3290 - mae: 2.1742 - val_loss: 6.9701 - val_mae: 2.1642\n"
          ]
        }
      ],
      "source": [
        "BATCH_SIZE = 50\n",
        "EPOCHS = 20\n",
        "X_train, X_test, y_train, y_test = train_test_split(x, y, test_size=0.3, random_state=42)\n",
        "hasilAdam = model.fit(X_train, y_train,\n",
        "                    validation_data=(X_test, y_test),\n",
        "                    epochs=EPOCHS,\n",
        "                    batch_size=BATCH_SIZE)"
      ]
    },
    {
      "cell_type": "markdown",
      "metadata": {
        "id": "Rj7mxZ8o7MIU"
      },
      "source": [
        "##Menampilkan hasil"
      ]
    },
    {
      "cell_type": "code",
      "execution_count": 52,
      "metadata": {
        "colab": {
          "base_uri": "https://localhost:8080/",
          "height": 428
        },
        "id": "VflXLEeECaXC",
        "outputId": "c80f46bf-d127-43fc-f894-efdfdbac86a6"
      },
      "outputs": [
        {
          "output_type": "execute_result",
          "data": {
            "text/plain": [
              "<matplotlib.legend.Legend at 0x7f0633b97b90>"
            ]
          },
          "metadata": {},
          "execution_count": 52
        },
        {
          "output_type": "display_data",
          "data": {
            "text/plain": [
              "<Figure size 1008x432 with 2 Axes>"
            ],
            "image/png": "[encoded data removed]"
          },
          "metadata": {
            "needs_background": "light"
          }
        }
      ],
      "source": [
        "import matplotlib.pyplot as plt\n",
        " \n",
        "history_dict = hasilAdam.history\n",
        "loss_values = history_dict['loss']\n",
        "val_loss_values = history_dict['val_loss']\n",
        "accuracy = history_dict['mae']\n",
        "val_accuracy = history_dict['val_mae']\n",
        " \n",
        "epochs = range(1, len(loss_values) + 1)\n",
        "fig, ax = plt.subplots(1, 2, figsize=(14, 6))\n",
        "#\n",
        "# Plot the model accuracy (MAE) vs Epochs\n",
        "#\n",
        "ax[0].plot(epochs, accuracy, 'bo', label='Training accuracy')\n",
        "ax[0].plot(epochs, val_accuracy, 'b', label='Validation accuracy')\n",
        "ax[0].set_title('Training & Validation Accuracy', fontsize=16)\n",
        "ax[0].set_xlabel('Epochs', fontsize=16)\n",
        "ax[0].set_ylabel('Accuracy', fontsize=16)\n",
        "ax[0].legend()\n",
        "#\n",
        "# Plot the loss vs Epochs\n",
        "#\n",
        "ax[1].plot(epochs, loss_values, 'bo-', label='Training loss')\n",
        "ax[1].plot(epochs, val_loss_values, 'b', label='Validation loss')\n",
        "ax[1].set_title('Training & Validation Loss', fontsize=16)\n",
        "ax[1].set_xlabel('Epochs', fontsize=16)\n",
        "ax[1].set_ylabel('Loss', fontsize=16)\n",
        "ax[1].legend()"
      ]
    },
    {
      "cell_type": "code",
      "source": [
        "model.save('haepe.h5')"
      ],
      "metadata": {
        "id": "kBNyzH2TINcp"
      },
      "execution_count": null,
      "outputs": []
    },
    {
      "cell_type": "code",
      "execution_count": null,
      "metadata": {
        "id": "wdXV-5bB7OHQ",
        "outputId": "e8d63dc4-d197-4f19-c157-765939ffd258"
      },
      "outputs": [
        {
          "name": "stdout",
          "output_type": "stream",
          "text": [
            "INFO:tensorflow:Assets written to: C:\\Users\\RIZKIP~1\\AppData\\Local\\Temp\\tmpu0x31rhd\\assets\n"
          ]
        },
        {
          "data": {
            "text/plain": [
              "51480"
            ]
          },
          "execution_count": 7,
          "metadata": {},
          "output_type": "execute_result"
        }
      ],
      "source": [
        "import pathlib\n",
        "converter = tf.lite.TFLiteConverter.from_keras_model(model)\n",
        "tflite_model = converter.convert()\n",
        "\n",
        "tflite_file = pathlib.Path('haepe.tflite')\n",
        "tflite_file.write_bytes(tflite_model)"
      ]
    }
  ],
  "metadata": {
    "accelerator": "GPU",
    "colab": {
      "collapsed_sections": [],
      "name": "Haepe.ipynb",
      "provenance": [],
      "include_colab_link": true
    },
    "interpreter": {
      "hash": "fd88e866c21503d77d8f2119b6f18787ed3cf03b7e87e5446f4f2c19f07ceb29"
    },
    "kernelspec": {
      "display_name": "Python 3.10.4 64-bit",
      "language": "python",
      "name": "python3"
    },
    "language_info": {
      "codemirror_mode": {
        "name": "ipython",
        "version": 3
      },
      "file_extension": ".py",
      "mimetype": "text/x-python",
      "name": "python",
      "nbconvert_exporter": "python",
      "pygments_lexer": "ipython3",
      "version": "3.10.4"
    }
  },
  "nbformat": 4,
  "nbformat_minor": 0
}