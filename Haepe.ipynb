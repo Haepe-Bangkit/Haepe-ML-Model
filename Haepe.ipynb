{
  "cells": [
    {
      "cell_type": "markdown",
      "metadata": {
        "id": "view-in-github",
        "colab_type": "text"
      },
      "source": [
        "<a href=\"https://colab.research.google.com/github/Haepe-Bangkit/Haepe-ML-Model/blob/main/Haepe.ipynb\" target=\"_parent\"><img src=\"https://colab.research.google.com/assets/colab-badge.svg\" alt=\"Open In Colab\"/></a>"
      ]
    },
    {
      "cell_type": "code",
      "execution_count": 14,
      "metadata": {
        "colab": {
          "base_uri": "https://localhost:8080/"
        },
        "id": "p2dQsHI3_N8K",
        "outputId": "c516aeba-bbb6-4997-c173-f6a4cdf4832b"
      },
      "outputs": [
        {
          "output_type": "execute_result",
          "data": {
            "text/plain": [
              "((222, 45), (222,))"
            ]
          },
          "metadata": {},
          "execution_count": 14
        }
      ],
      "source": [
        "import tensorflow as tf\n",
        "\n",
        "import matplotlib.pyplot as plt\n",
        "import pandas as pd\n",
        "from sklearn.model_selection import train_test_split\n",
        "from sklearn.preprocessing import LabelEncoder\n",
        "\n",
        "data = pd.read_csv('cemara_dataset.csv')\n",
        "data = data.drop(['Timestamp'], axis=1)\n",
        "data = data.dropna(axis=0)\n",
        "x = data.drop(['Aktivitas'], axis=1)\n",
        "y = data['Aktivitas']\n",
        "\n",
        "le = LabelEncoder()\n",
        "x = pd.get_dummies(x)\n",
        "y = le.fit_transform(y)\n",
        "x.shape, y.shape"
      ]
    },
    {
      "cell_type": "markdown",
      "metadata": {
        "id": "rphS2rMIymyZ"
      },
      "source": [
        "### Mendefenisikan arsitektur fully connected layer\n",
        "pendefenisian arsitektur fully connected neural network menggunakan API fungsi sequential() "
      ]
    },
    {
      "cell_type": "code",
      "execution_count": 15,
      "metadata": {
        "id": "MMZsbjAkDKpU"
      },
      "outputs": [],
      "source": [
        "def build_fc_model():\n",
        "  fc_model = tf.keras.Sequential([\n",
        "\n",
        "      tf.keras.layers.Flatten(),\n",
        "      tf.keras.layers.Dense(46, activation=tf.nn.relu, input_shape=(46,)),\n",
        "      tf.keras.layers.Dense(64, activation=tf.nn.relu),\n",
        "      tf.keras.layers.Dense(128, activation=tf.nn.relu),\n",
        "      tf.keras.layers.Dense(1, activation=tf.nn.sigmoid) \n",
        "      \n",
        "  ])\n",
        "  return fc_model\n",
        "\n",
        "model = build_fc_model()"
      ]
    },
    {
      "cell_type": "markdown",
      "metadata": {
        "id": "aU3AQxP76vkV"
      },
      "source": [
        "###Melakukan compile dengan menggunakan Optimizer Adam dan learning rate=0.001, loss\"MSE\" dan metrics \"MAE\""
      ]
    },
    {
      "cell_type": "code",
      "execution_count": 16,
      "metadata": {
        "id": "Lhan11blCaW7"
      },
      "outputs": [],
      "source": [
        "model.compile(optimizer=tf.keras.optimizers.Adam(learning_rate=0.001), \n",
        "              loss=tf.keras.losses.MeanAbsoluteError(),\n",
        "              metrics=[tf.keras.metrics.RootMeanSquaredError(name='RMSE')])\n"
      ]
    },
    {
      "cell_type": "markdown",
      "metadata": {
        "id": "ajx2CaM47BxE"
      },
      "source": [
        "###Training Data"
      ]
    },
    {
      "cell_type": "code",
      "execution_count": 17,
      "metadata": {
        "colab": {
          "base_uri": "https://localhost:8080/"
        },
        "id": "EFMbIqIvQ2X0",
        "outputId": "e1b36963-e311-4547-c785-9c79ec680e63"
      },
      "outputs": [
        {
          "output_type": "stream",
          "name": "stdout",
          "text": [
            "Epoch 1/20\n",
            "4/4 [==============================] - 3s 62ms/step - loss: 2.5792 - RMSE: 3.2492 - val_loss: 2.5196 - val_RMSE: 2.9808\n",
            "Epoch 2/20\n",
            "4/4 [==============================] - 0s 10ms/step - loss: 2.5145 - RMSE: 3.1866 - val_loss: 2.4558 - val_RMSE: 2.9171\n",
            "Epoch 3/20\n",
            "4/4 [==============================] - 0s 10ms/step - loss: 2.4508 - RMSE: 3.1281 - val_loss: 2.3881 - val_RMSE: 2.8507\n",
            "Epoch 4/20\n",
            "4/4 [==============================] - 0s 9ms/step - loss: 2.3816 - RMSE: 3.0668 - val_loss: 2.3187 - val_RMSE: 2.7837\n",
            "Epoch 5/20\n",
            "4/4 [==============================] - 0s 9ms/step - loss: 2.3129 - RMSE: 3.0068 - val_loss: 2.2560 - val_RMSE: 2.7240\n",
            "Epoch 6/20\n",
            "4/4 [==============================] - 0s 9ms/step - loss: 2.2548 - RMSE: 2.9548 - val_loss: 2.2107 - val_RMSE: 2.6819\n",
            "Epoch 7/20\n",
            "4/4 [==============================] - 0s 10ms/step - loss: 2.2139 - RMSE: 2.9192 - val_loss: 2.1848 - val_RMSE: 2.6582\n",
            "Epoch 8/20\n",
            "4/4 [==============================] - 0s 10ms/step - loss: 2.1918 - RMSE: 2.9007 - val_loss: 2.1728 - val_RMSE: 2.6475\n",
            "Epoch 9/20\n",
            "4/4 [==============================] - 0s 10ms/step - loss: 2.1814 - RMSE: 2.8919 - val_loss: 2.1680 - val_RMSE: 2.6433\n",
            "Epoch 10/20\n",
            "4/4 [==============================] - 0s 9ms/step - loss: 2.1775 - RMSE: 2.8888 - val_loss: 2.1660 - val_RMSE: 2.6417\n",
            "Epoch 11/20\n",
            "4/4 [==============================] - 0s 9ms/step - loss: 2.1758 - RMSE: 2.8873 - val_loss: 2.1652 - val_RMSE: 2.6410\n",
            "Epoch 12/20\n",
            "4/4 [==============================] - 0s 9ms/step - loss: 2.1751 - RMSE: 2.8868 - val_loss: 2.1648 - val_RMSE: 2.6406\n",
            "Epoch 13/20\n",
            "4/4 [==============================] - 0s 9ms/step - loss: 2.1748 - RMSE: 2.8865 - val_loss: 2.1646 - val_RMSE: 2.6405\n",
            "Epoch 14/20\n",
            "4/4 [==============================] - 0s 9ms/step - loss: 2.1746 - RMSE: 2.8864 - val_loss: 2.1645 - val_RMSE: 2.6404\n",
            "Epoch 15/20\n",
            "4/4 [==============================] - 0s 9ms/step - loss: 2.1745 - RMSE: 2.8863 - val_loss: 2.1645 - val_RMSE: 2.6403\n",
            "Epoch 16/20\n",
            "4/4 [==============================] - 0s 10ms/step - loss: 2.1745 - RMSE: 2.8862 - val_loss: 2.1644 - val_RMSE: 2.6403\n",
            "Epoch 17/20\n",
            "4/4 [==============================] - 0s 9ms/step - loss: 2.1744 - RMSE: 2.8862 - val_loss: 2.1644 - val_RMSE: 2.6403\n",
            "Epoch 18/20\n",
            "4/4 [==============================] - 0s 10ms/step - loss: 2.1744 - RMSE: 2.8862 - val_loss: 2.1644 - val_RMSE: 2.6403\n",
            "Epoch 19/20\n",
            "4/4 [==============================] - 0s 9ms/step - loss: 2.1744 - RMSE: 2.8862 - val_loss: 2.1644 - val_RMSE: 2.6403\n",
            "Epoch 20/20\n",
            "4/4 [==============================] - 0s 9ms/step - loss: 2.1744 - RMSE: 2.8862 - val_loss: 2.1644 - val_RMSE: 2.6402\n"
          ]
        }
      ],
      "source": [
        "BATCH_SIZE = 50\n",
        "EPOCHS = 20\n",
        "X_train, X_test, y_train, y_test = train_test_split(x, y, test_size=0.3, random_state=42)\n",
        "history = model.fit(X_train, y_train,\n",
        "                    validation_data=(X_test, y_test),\n",
        "                    epochs=EPOCHS,\n",
        "                    batch_size=BATCH_SIZE)"
      ]
    },
    {
      "cell_type": "markdown",
      "metadata": {
        "id": "Rj7mxZ8o7MIU"
      },
      "source": [
        "##Menampilkan hasil"
      ]
    },
    {
      "cell_type": "code",
      "execution_count": 18,
      "metadata": {
        "colab": {
          "base_uri": "https://localhost:8080/",
          "height": 295
        },
        "id": "VflXLEeECaXC",
        "outputId": "32d83275-7430-4425-a1cb-8a6c3e28f90f"
      },
      "outputs": [
        {
          "output_type": "display_data",
          "data": {
            "text/plain": [
              "<Figure size 432x288 with 1 Axes>"
            ],
            "image/png": "[encoded data removed]"
          },
          "metadata": {
            "needs_background": "light"
          }
        }
      ],
      "source": [
        "plt.plot(history.history['RMSE'])\n",
        "plt.plot(history.history['val_RMSE'])\n",
        "plt.title('model_metrics')\n",
        "plt.ylabel('root_mean_squared_error')\n",
        "plt.xlabel('epoch')\n",
        "plt.legend(['train', 'test'], loc='upper left')\n",
        "plt.show()"
      ]
    },
    {
      "cell_type": "code",
      "source": [
        "model.save('haepe.h5')"
      ],
      "metadata": {
        "id": "kBNyzH2TINcp"
      },
      "execution_count": 19,
      "outputs": []
    },
    {
      "cell_type": "code",
      "execution_count": 20,
      "metadata": {
        "colab": {
          "base_uri": "https://localhost:8080/"
        },
        "id": "wdXV-5bB7OHQ",
        "outputId": "df90939e-ede7-4d9a-c799-007ca9021cb1"
      },
      "outputs": [
        {
          "output_type": "stream",
          "name": "stdout",
          "text": [
            "INFO:tensorflow:Assets written to: /tmp/tmphjpp5n9p/assets\n"
          ]
        },
        {
          "output_type": "stream",
          "name": "stderr",
          "text": [
            "WARNING:absl:Buffer deduplication procedure will be skipped when flatbuffer library is not properly loaded\n"
          ]
        },
        {
          "output_type": "execute_result",
          "data": {
            "text/plain": [
              "56924"
            ]
          },
          "metadata": {},
          "execution_count": 20
        }
      ],
      "source": [
        "import pathlib\n",
        "converter = tf.lite.TFLiteConverter.from_keras_model(model)\n",
        "tflite_model = converter.convert()\n",
        "\n",
        "tflite_file = pathlib.Path('haepe.tflite')\n",
        "tflite_file.write_bytes(tflite_model)"
      ]
    }
  ],
  "metadata": {
    "accelerator": "GPU",
    "colab": {
      "collapsed_sections": [],
      "name": "Haepe.ipynb",
      "provenance": [],
      "include_colab_link": true
    },
    "interpreter": {
      "hash": "fd88e866c21503d77d8f2119b6f18787ed3cf03b7e87e5446f4f2c19f07ceb29"
    },
    "kernelspec": {
      "display_name": "Python 3.10.4 64-bit",
      "language": "python",
      "name": "python3"
    },
    "language_info": {
      "codemirror_mode": {
        "name": "ipython",
        "version": 3
      },
      "file_extension": ".py",
      "mimetype": "text/x-python",
      "name": "python",
      "nbconvert_exporter": "python",
      "pygments_lexer": "ipython3",
      "version": "3.10.4"
    }
  },
  "nbformat": 4,
  "nbformat_minor": 0
}